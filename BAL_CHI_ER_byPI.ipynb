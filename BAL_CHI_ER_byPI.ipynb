{
  "nbformat": 4,
  "nbformat_minor": 0,
  "metadata": {
    "colab": {
      "name": "miniproj4.ipynb",
      "provenance": [],
      "toc_visible": true,
      "authorship_tag": "ABX9TyPnvVDiIpJYVwR/tHRKO0/6",
      "include_colab_link": true
    },
    "kernelspec": {
      "name": "python3",
      "display_name": "Python 3"
    }
  },
  "cells": [
    {
      "cell_type": "markdown",
      "metadata": {
        "id": "view-in-github",
        "colab_type": "text"
      },
      "source": [
        "<a href=\"https://colab.research.google.com/github/matthewprk/comparing-baltimore-and-chicago-employment-rates-based-on-parent-income-using-PYTHON/blob/main/BAL_CHI_ER_byPI.ipynb\" target=\"_parent\"><img src=\"https://colab.research.google.com/assets/colab-badge.svg\" alt=\"Open In Colab\"/></a>"
      ]
    },
    {
      "cell_type": "markdown",
      "metadata": {
        "id": "ZNwYrCW66K3K"
      },
      "source": [
        "# Looking at Baltimore and Chicago Employment Rates Based on Parent Income"
      ]
    },
    {
      "cell_type": "markdown",
      "metadata": {
        "id": "cGH5ZGzAKe6w"
      },
      "source": [
        "\n",
        "\n",
        "*   How does employment rate and parent income differ for each city?\n",
        "*   Is any parent-income group driving employment for either city? \n",
        "\n"
      ]
    },
    {
      "cell_type": "markdown",
      "metadata": {
        "id": "vJK5vEj2LwJ-"
      },
      "source": [
        "## Import Libraries"
      ]
    },
    {
      "cell_type": "code",
      "metadata": {
        "id": "sxyqd-zdLk3H"
      },
      "source": [
        "# For Data Analysis\n",
        "\n",
        "import pandas as pd\n",
        "import numpy as np\n",
        "\n",
        "# For Visualizations\n",
        "\n",
        "import plotly.express as px\n",
        "\n",
        "# For Exporting Files\n",
        "\n",
        "from google.colab import files\n",
        "\n",
        "# For Linear Regression\n",
        "from sklearn import linear_model\n",
        "\n",
        "from sklearn.linear_model import LinearRegression\n",
        "\n",
        "import statsmodels.api as sm"
      ],
      "execution_count": 126,
      "outputs": []
    },
    {
      "cell_type": "code",
      "metadata": {
        "id": "Q8N9-eNyBBn6"
      },
      "source": [
        "# For Datasets\n",
        "\n",
        "## 2019 Baltimore Employment - Parent Income ALL\n",
        "df_BAL_ALL=pd.read_csv(\"https://raw.githubusercontent.com/matthewprk/comparing-baltimore-and-chicago-employment-rates-based-on-parent-income-using-PYTHON/main/BaltimoreEmployment_All_PI.csv\")\n",
        "## 2019 Baltimore Employment - Parent Income HIGH\n",
        "df_BAL_HIGH=pd.read_csv(\"https://raw.githubusercontent.com/matthewprk/comparing-baltimore-and-chicago-employment-rates-based-on-parent-income-using-PYTHON/main/BaltimoreEmployment_High_PI.csv\")\n",
        "## 2019 Baltimore Employment - Parent Income MEDIUM\n",
        "df_BAL_MED=pd.read_csv(\"https://raw.githubusercontent.com/matthewprk/comparing-baltimore-and-chicago-employment-rates-based-on-parent-income-using-PYTHON/main/BaltimoreEmployment_Med_PI.csv\")\n",
        "## 2019 Baltimore Employment - Parent Income LOW\n",
        "df_BAL_LOW=pd.read_csv(\"https://raw.githubusercontent.com/matthewprk/comparing-baltimore-and-chicago-employment-rates-based-on-parent-income-using-PYTHON/main/BaltimoreEmployment_Low_PI.csv\")\n",
        "## 2019 Chicago Employment - Parent Income ALL\n",
        "df_CHI_ALL=pd.read_csv(\"https://raw.githubusercontent.com/matthewprk/comparing-baltimore-and-chicago-employment-rates-based-on-parent-income-using-PYTHON/main/ChicagoEmployment_All_PI.csv\")\n",
        "## 2019 Chicago Employment - Parent Income HIGH\n",
        "df_CHI_HIGH=pd.read_csv(\"https://raw.githubusercontent.com/matthewprk/comparing-baltimore-and-chicago-employment-rates-based-on-parent-income-using-PYTHON/main/ChicagoEmployment_High_PI.csv\")\n",
        "## 2019 Chicago Employment - Parent Income MEDIUM\n",
        "df_CHI_MED=pd.read_csv(\"https://raw.githubusercontent.com/matthewprk/comparing-baltimore-and-chicago-employment-rates-based-on-parent-income-using-PYTHON/main/ChicagoEmployment_Med_PI.csv\")\n",
        "## 2019 Chicago Employment - Parent Income LOW\n",
        "df_CHI_LOW=pd.read_csv(\"https://raw.githubusercontent.com/matthewprk/comparing-baltimore-and-chicago-employment-rates-based-on-parent-income-using-PYTHON/main/ChicagoEmployment_Low_PI.csv\")"
      ],
      "execution_count": 127,
      "outputs": []
    },
    {
      "cell_type": "markdown",
      "metadata": {
        "id": "rJ3y08womICv"
      },
      "source": [
        "# Merge Data"
      ]
    },
    {
      "cell_type": "markdown",
      "metadata": {
        "id": "hoSDgEwKZotf"
      },
      "source": [
        "## Merging Parent Income Datasets for each City"
      ]
    },
    {
      "cell_type": "code",
      "metadata": {
        "id": "gAhE4wseRDou"
      },
      "source": [
        "# Merging Baltimore Datasets\n",
        "\n",
        "## MERGING BALTIMORE DATASETS\n",
        "\n",
        "df_BAL_merge1=pd.merge(df_BAL_ALL,df_BAL_HIGH[[\"tract\",\"Employment_Rate_rP_gP_p75\"]],how=\"left\",on=\"tract\")\n",
        "\n",
        "## Merging Merge1 with Medium\n",
        "\n",
        "df_BAL_merge2=pd.merge(df_BAL_merge1,df_BAL_MED[[\"tract\",\"Employment_Rate_rP_gP_p50\"]],how=\"left\",on=\"tract\")\n",
        "\n",
        "## Merging Merge2 with Low to derive Final merged Baltimore dataset\n",
        "\n",
        "df_BAL_mergeFINAL=pd.merge(df_BAL_merge2,df_BAL_LOW[[\"tract\",\"Employment_Rate_rP_gP_p25\"]],how=\"left\",on=\"tract\")\n",
        "\n",
        "# MERGING CHICAGO DATASETS\n",
        "\n",
        "## Mergine All with High\n",
        "\n",
        "df_CHI_merge3=pd.merge(df_CHI_ALL,df_CHI_HIGH[[\"tract\",\"Employment_Rate_rP_gP_p75\"]],how=\"left\",on=\"tract\")\n",
        "\n",
        "## Merging Merge3 with Medium\n",
        "\n",
        "df_CHI_merge4=pd.merge(df_CHI_merge3,df_CHI_MED[[\"tract\",\"Employment_Rate_rP_gP_p50\"]],how=\"left\",on=\"tract\")\n",
        "\n",
        "## Merging Merge4 with Low to derive Final merged CHICAGO dataset\n",
        "\n",
        "df_CHI_mergeFINAL=pd.merge(df_CHI_merge4,df_CHI_LOW[[\"tract\",\"Employment_Rate_rP_gP_p25\"]],how=\"left\",on=\"tract\")"
      ],
      "execution_count": 128,
      "outputs": []
    },
    {
      "cell_type": "markdown",
      "metadata": {
        "id": "S6SlTN68pBJj"
      },
      "source": [
        "## Rename Employment Columns "
      ]
    },
    {
      "cell_type": "code",
      "metadata": {
        "id": "t4uLZ7KBo0tO"
      },
      "source": [
        "# Renaming Baltimore Employment Columns\n",
        "\n",
        "df_BAL_mergeFINAL=df_BAL_mergeFINAL.rename(columns={\"Employment_Rate_rP_gP_p75\":\"Employment Rate High PI\",\n",
        "                                  \"Employment_Rate_rP_gP_p50\":\"Employment Rate Medium PI\",\n",
        "                                  \"Employment_Rate_rP_gP_p25\":\"Employment Rate Low PI\",\n",
        "                                  \"Employment_Rate_rP_gP_pall\":\"Employment Rate All PI\"})"
      ],
      "execution_count": 129,
      "outputs": []
    },
    {
      "cell_type": "code",
      "metadata": {
        "id": "za3Q2LWSq2x-"
      },
      "source": [
        "# Renaming Chicago Employment Columns\n",
        "\n",
        "df_CHI_mergeFINAL=df_CHI_mergeFINAL.rename(columns={\"Employment_Rate_rP_gP_p75\":\"Employment Rate High PI\",\n",
        "                                  \"Employment_Rate_rP_gP_p50\":\"Employment Rate Medium PI\",\n",
        "                                  \"Employment_Rate_rP_gP_p25\":\"Employment Rate Low PI\",\n",
        "                                  \"Employment_Rate_rP_gP_pall\":\"Employment Rate All PI\"})"
      ],
      "execution_count": 130,
      "outputs": []
    },
    {
      "cell_type": "markdown",
      "metadata": {
        "id": "A0Fx_GYvrzqq"
      },
      "source": [
        "# Filtering Data"
      ]
    },
    {
      "cell_type": "code",
      "metadata": {
        "id": "7b5-qiv2r2Qb"
      },
      "source": [
        "# Filter Only Baltimore City Data\n",
        "\n",
        "df_BAL_filtered1=df_BAL_mergeFINAL[df_BAL_mergeFINAL['Name'].str.contains('Baltimore')]\n",
        "\n",
        "# Remove rows with 'NaN' data\n",
        "\n",
        "df_BAL_filteredFINAL=df_BAL_filtered1.dropna()"
      ],
      "execution_count": 131,
      "outputs": []
    },
    {
      "cell_type": "code",
      "metadata": {
        "id": "-Wraqe_B4EmQ"
      },
      "source": [
        "# Filter Only Chicago Data\n",
        "\n",
        "df_CHI_filtered1=df_CHI_mergeFINAL[df_CHI_mergeFINAL['Name'].str.contains('Chicago')]\n",
        "\n",
        "# Remove rows with 'NaN' data\n",
        "\n",
        "df_CHI_filteredFINAL=df_CHI_filtered1.dropna()"
      ],
      "execution_count": 132,
      "outputs": []
    },
    {
      "cell_type": "code",
      "metadata": {
        "colab": {
          "base_uri": "https://localhost:8080/"
        },
        "id": "Sb4mbvtkBWL_",
        "outputId": "4f89ecc2-f961-4b6b-8243-29879d817c2b"
      },
      "source": [
        "# Add City column for the Baltimore Only Data\n",
        "\n",
        "df_BAL_filteredFINAL['City']='Baltimore'"
      ],
      "execution_count": 133,
      "outputs": [
        {
          "output_type": "stream",
          "text": [
            "/usr/local/lib/python3.6/dist-packages/ipykernel_launcher.py:3: SettingWithCopyWarning:\n",
            "\n",
            "\n",
            "A value is trying to be set on a copy of a slice from a DataFrame.\n",
            "Try using .loc[row_indexer,col_indexer] = value instead\n",
            "\n",
            "See the caveats in the documentation: https://pandas.pydata.org/pandas-docs/stable/user_guide/indexing.html#returning-a-view-versus-a-copy\n",
            "\n"
          ],
          "name": "stderr"
        }
      ]
    },
    {
      "cell_type": "code",
      "metadata": {
        "colab": {
          "base_uri": "https://localhost:8080/"
        },
        "id": "ASf-B7MtCBgx",
        "outputId": "3dffbcdf-344a-4ea3-aaf3-f134c9de68bc"
      },
      "source": [
        "# Add City Column for the Chicago Only Data\n",
        "\n",
        "df_CHI_filteredFINAL['City']='Chicago'"
      ],
      "execution_count": 134,
      "outputs": [
        {
          "output_type": "stream",
          "text": [
            "/usr/local/lib/python3.6/dist-packages/ipykernel_launcher.py:3: SettingWithCopyWarning:\n",
            "\n",
            "\n",
            "A value is trying to be set on a copy of a slice from a DataFrame.\n",
            "Try using .loc[row_indexer,col_indexer] = value instead\n",
            "\n",
            "See the caveats in the documentation: https://pandas.pydata.org/pandas-docs/stable/user_guide/indexing.html#returning-a-view-versus-a-copy\n",
            "\n"
          ],
          "name": "stderr"
        }
      ]
    },
    {
      "cell_type": "markdown",
      "metadata": {
        "id": "Fh3N7H7__X2r"
      },
      "source": [
        "# Plotting Data\n"
      ]
    },
    {
      "cell_type": "markdown",
      "metadata": {
        "id": "a02dpejNZgUQ"
      },
      "source": [
        "## Plotly Express"
      ]
    },
    {
      "cell_type": "code",
      "metadata": {
        "id": "lYUaQ12xVSzn"
      },
      "source": [
        "# Average Employment Rate for Baltimore and Chicago\n",
        "\n",
        "employment_bar = px.bar(df_pivot_merge, x='City',y='Employment Rate All PI', width=600, height=700, title='Average Employment Rate for All Parent Incomes')"
      ],
      "execution_count": 135,
      "outputs": []
    },
    {
      "cell_type": "code",
      "metadata": {
        "colab": {
          "base_uri": "https://localhost:8080/",
          "height": 717
        },
        "id": "iZQlm4r5X9z8",
        "outputId": "4d17f74c-1b3f-47f7-9239-b5ee17e62d58"
      },
      "source": [
        "# Preview\n",
        "\n",
        "employment_bar"
      ],
      "execution_count": 136,
      "outputs": [
        {
          "output_type": "display_data",
          "data": {
            "text/html": [
              "<html>\n",
              "<head><meta charset=\"utf-8\" /></head>\n",
              "<body>\n",
              "    <div>\n",
              "            <script src=\"https://cdnjs.cloudflare.com/ajax/libs/mathjax/2.7.5/MathJax.js?config=TeX-AMS-MML_SVG\"></script><script type=\"text/javascript\">if (window.MathJax) {MathJax.Hub.Config({SVG: {font: \"STIX-Web\"}});}</script>\n",
              "                <script type=\"text/javascript\">window.PlotlyConfig = {MathJaxConfig: 'local'};</script>\n",
              "        <script src=\"https://cdn.plot.ly/plotly-latest.min.js\"></script>    \n",
              "            <div id=\"cfe0623e-96bf-4264-abcc-388174227a5e\" class=\"plotly-graph-div\" style=\"height:700px; width:600px;\"></div>\n",
              "            <script type=\"text/javascript\">\n",
              "                \n",
              "                    window.PLOTLYENV=window.PLOTLYENV || {};\n",
              "                    \n",
              "                if (document.getElementById(\"cfe0623e-96bf-4264-abcc-388174227a5e\")) {\n",
              "                    Plotly.newPlot(\n",
              "                        'cfe0623e-96bf-4264-abcc-388174227a5e',\n",
              "                        [{\"alignmentgroup\": \"True\", \"hoverlabel\": {\"namelength\": 0}, \"hovertemplate\": \"City=%{x}<br>Employment Rate All PI=%{y}\", \"legendgroup\": \"\", \"marker\": {\"color\": \"#636efa\"}, \"name\": \"\", \"offsetgroup\": \"\", \"orientation\": \"v\", \"showlegend\": false, \"textposition\": \"auto\", \"type\": \"bar\", \"x\": [\"Baltimore\", \"Chicago\"], \"xaxis\": \"x\", \"y\": [0.7201271551724134, 0.7450092592592575], \"yaxis\": \"y\"}],\n",
              "                        {\"barmode\": \"relative\", \"height\": 700, \"legend\": {\"tracegroupgap\": 0}, \"template\": {\"data\": {\"bar\": [{\"error_x\": {\"color\": \"#2a3f5f\"}, \"error_y\": {\"color\": \"#2a3f5f\"}, \"marker\": {\"line\": {\"color\": \"#E5ECF6\", \"width\": 0.5}}, \"type\": \"bar\"}], \"barpolar\": [{\"marker\": {\"line\": {\"color\": \"#E5ECF6\", \"width\": 0.5}}, \"type\": \"barpolar\"}], \"carpet\": [{\"aaxis\": {\"endlinecolor\": \"#2a3f5f\", \"gridcolor\": \"white\", \"linecolor\": \"white\", \"minorgridcolor\": \"white\", \"startlinecolor\": \"#2a3f5f\"}, \"baxis\": {\"endlinecolor\": \"#2a3f5f\", \"gridcolor\": \"white\", \"linecolor\": \"white\", \"minorgridcolor\": \"white\", \"startlinecolor\": \"#2a3f5f\"}, \"type\": \"carpet\"}], \"choropleth\": [{\"colorbar\": {\"outlinewidth\": 0, \"ticks\": \"\"}, \"type\": \"choropleth\"}], \"contour\": [{\"colorbar\": {\"outlinewidth\": 0, \"ticks\": \"\"}, \"colorscale\": [[0.0, \"#0d0887\"], [0.1111111111111111, \"#46039f\"], [0.2222222222222222, \"#7201a8\"], [0.3333333333333333, \"#9c179e\"], [0.4444444444444444, \"#bd3786\"], [0.5555555555555556, \"#d8576b\"], [0.6666666666666666, \"#ed7953\"], [0.7777777777777778, \"#fb9f3a\"], [0.8888888888888888, \"#fdca26\"], [1.0, \"#f0f921\"]], \"type\": \"contour\"}], \"contourcarpet\": [{\"colorbar\": {\"outlinewidth\": 0, \"ticks\": \"\"}, \"type\": \"contourcarpet\"}], \"heatmap\": [{\"colorbar\": {\"outlinewidth\": 0, \"ticks\": \"\"}, \"colorscale\": [[0.0, \"#0d0887\"], [0.1111111111111111, \"#46039f\"], [0.2222222222222222, \"#7201a8\"], [0.3333333333333333, \"#9c179e\"], [0.4444444444444444, \"#bd3786\"], [0.5555555555555556, \"#d8576b\"], [0.6666666666666666, \"#ed7953\"], [0.7777777777777778, \"#fb9f3a\"], [0.8888888888888888, \"#fdca26\"], [1.0, \"#f0f921\"]], \"type\": \"heatmap\"}], \"heatmapgl\": [{\"colorbar\": {\"outlinewidth\": 0, \"ticks\": \"\"}, \"colorscale\": [[0.0, \"#0d0887\"], [0.1111111111111111, \"#46039f\"], [0.2222222222222222, \"#7201a8\"], [0.3333333333333333, \"#9c179e\"], [0.4444444444444444, \"#bd3786\"], [0.5555555555555556, \"#d8576b\"], [0.6666666666666666, \"#ed7953\"], [0.7777777777777778, \"#fb9f3a\"], [0.8888888888888888, \"#fdca26\"], [1.0, \"#f0f921\"]], \"type\": \"heatmapgl\"}], \"histogram\": [{\"marker\": {\"colorbar\": {\"outlinewidth\": 0, \"ticks\": \"\"}}, \"type\": \"histogram\"}], \"histogram2d\": [{\"colorbar\": {\"outlinewidth\": 0, \"ticks\": \"\"}, \"colorscale\": [[0.0, \"#0d0887\"], [0.1111111111111111, \"#46039f\"], [0.2222222222222222, \"#7201a8\"], [0.3333333333333333, \"#9c179e\"], [0.4444444444444444, \"#bd3786\"], [0.5555555555555556, \"#d8576b\"], [0.6666666666666666, \"#ed7953\"], [0.7777777777777778, \"#fb9f3a\"], [0.8888888888888888, \"#fdca26\"], [1.0, \"#f0f921\"]], \"type\": \"histogram2d\"}], \"histogram2dcontour\": [{\"colorbar\": {\"outlinewidth\": 0, \"ticks\": \"\"}, \"colorscale\": [[0.0, \"#0d0887\"], [0.1111111111111111, \"#46039f\"], [0.2222222222222222, \"#7201a8\"], [0.3333333333333333, \"#9c179e\"], [0.4444444444444444, \"#bd3786\"], [0.5555555555555556, \"#d8576b\"], [0.6666666666666666, \"#ed7953\"], [0.7777777777777778, \"#fb9f3a\"], [0.8888888888888888, \"#fdca26\"], [1.0, \"#f0f921\"]], \"type\": \"histogram2dcontour\"}], \"mesh3d\": [{\"colorbar\": {\"outlinewidth\": 0, \"ticks\": \"\"}, \"type\": \"mesh3d\"}], \"parcoords\": [{\"line\": {\"colorbar\": {\"outlinewidth\": 0, \"ticks\": \"\"}}, \"type\": \"parcoords\"}], \"pie\": [{\"automargin\": true, \"type\": \"pie\"}], \"scatter\": [{\"marker\": {\"colorbar\": {\"outlinewidth\": 0, \"ticks\": \"\"}}, \"type\": \"scatter\"}], \"scatter3d\": [{\"line\": {\"colorbar\": {\"outlinewidth\": 0, \"ticks\": \"\"}}, \"marker\": {\"colorbar\": {\"outlinewidth\": 0, \"ticks\": \"\"}}, \"type\": \"scatter3d\"}], \"scattercarpet\": [{\"marker\": {\"colorbar\": {\"outlinewidth\": 0, \"ticks\": \"\"}}, \"type\": \"scattercarpet\"}], \"scattergeo\": [{\"marker\": {\"colorbar\": {\"outlinewidth\": 0, \"ticks\": \"\"}}, \"type\": \"scattergeo\"}], \"scattergl\": [{\"marker\": {\"colorbar\": {\"outlinewidth\": 0, \"ticks\": \"\"}}, \"type\": \"scattergl\"}], \"scattermapbox\": [{\"marker\": {\"colorbar\": {\"outlinewidth\": 0, \"ticks\": \"\"}}, \"type\": \"scattermapbox\"}], \"scatterpolar\": [{\"marker\": {\"colorbar\": {\"outlinewidth\": 0, \"ticks\": \"\"}}, \"type\": \"scatterpolar\"}], \"scatterpolargl\": [{\"marker\": {\"colorbar\": {\"outlinewidth\": 0, \"ticks\": \"\"}}, \"type\": \"scatterpolargl\"}], \"scatterternary\": [{\"marker\": {\"colorbar\": {\"outlinewidth\": 0, \"ticks\": \"\"}}, \"type\": \"scatterternary\"}], \"surface\": [{\"colorbar\": {\"outlinewidth\": 0, \"ticks\": \"\"}, \"colorscale\": [[0.0, \"#0d0887\"], [0.1111111111111111, \"#46039f\"], [0.2222222222222222, \"#7201a8\"], [0.3333333333333333, \"#9c179e\"], [0.4444444444444444, \"#bd3786\"], [0.5555555555555556, \"#d8576b\"], [0.6666666666666666, \"#ed7953\"], [0.7777777777777778, \"#fb9f3a\"], [0.8888888888888888, \"#fdca26\"], [1.0, \"#f0f921\"]], \"type\": \"surface\"}], \"table\": [{\"cells\": {\"fill\": {\"color\": \"#EBF0F8\"}, \"line\": {\"color\": \"white\"}}, \"header\": {\"fill\": {\"color\": \"#C8D4E3\"}, \"line\": {\"color\": \"white\"}}, \"type\": \"table\"}]}, \"layout\": {\"annotationdefaults\": {\"arrowcolor\": \"#2a3f5f\", \"arrowhead\": 0, \"arrowwidth\": 1}, \"coloraxis\": {\"colorbar\": {\"outlinewidth\": 0, \"ticks\": \"\"}}, \"colorscale\": {\"diverging\": [[0, \"#8e0152\"], [0.1, \"#c51b7d\"], [0.2, \"#de77ae\"], [0.3, \"#f1b6da\"], [0.4, \"#fde0ef\"], [0.5, \"#f7f7f7\"], [0.6, \"#e6f5d0\"], [0.7, \"#b8e186\"], [0.8, \"#7fbc41\"], [0.9, \"#4d9221\"], [1, \"#276419\"]], \"sequential\": [[0.0, \"#0d0887\"], [0.1111111111111111, \"#46039f\"], [0.2222222222222222, \"#7201a8\"], [0.3333333333333333, \"#9c179e\"], [0.4444444444444444, \"#bd3786\"], [0.5555555555555556, \"#d8576b\"], [0.6666666666666666, \"#ed7953\"], [0.7777777777777778, \"#fb9f3a\"], [0.8888888888888888, \"#fdca26\"], [1.0, \"#f0f921\"]], \"sequentialminus\": [[0.0, \"#0d0887\"], [0.1111111111111111, \"#46039f\"], [0.2222222222222222, \"#7201a8\"], [0.3333333333333333, \"#9c179e\"], [0.4444444444444444, \"#bd3786\"], [0.5555555555555556, \"#d8576b\"], [0.6666666666666666, \"#ed7953\"], [0.7777777777777778, \"#fb9f3a\"], [0.8888888888888888, \"#fdca26\"], [1.0, \"#f0f921\"]]}, \"colorway\": [\"#636efa\", \"#EF553B\", \"#00cc96\", \"#ab63fa\", \"#FFA15A\", \"#19d3f3\", \"#FF6692\", \"#B6E880\", \"#FF97FF\", \"#FECB52\"], \"font\": {\"color\": \"#2a3f5f\"}, \"geo\": {\"bgcolor\": \"white\", \"lakecolor\": \"white\", \"landcolor\": \"#E5ECF6\", \"showlakes\": true, \"showland\": true, \"subunitcolor\": \"white\"}, \"hoverlabel\": {\"align\": \"left\"}, \"hovermode\": \"closest\", \"mapbox\": {\"style\": \"light\"}, \"paper_bgcolor\": \"white\", \"plot_bgcolor\": \"#E5ECF6\", \"polar\": {\"angularaxis\": {\"gridcolor\": \"white\", \"linecolor\": \"white\", \"ticks\": \"\"}, \"bgcolor\": \"#E5ECF6\", \"radialaxis\": {\"gridcolor\": \"white\", \"linecolor\": \"white\", \"ticks\": \"\"}}, \"scene\": {\"xaxis\": {\"backgroundcolor\": \"#E5ECF6\", \"gridcolor\": \"white\", \"gridwidth\": 2, \"linecolor\": \"white\", \"showbackground\": true, \"ticks\": \"\", \"zerolinecolor\": \"white\"}, \"yaxis\": {\"backgroundcolor\": \"#E5ECF6\", \"gridcolor\": \"white\", \"gridwidth\": 2, \"linecolor\": \"white\", \"showbackground\": true, \"ticks\": \"\", \"zerolinecolor\": \"white\"}, \"zaxis\": {\"backgroundcolor\": \"#E5ECF6\", \"gridcolor\": \"white\", \"gridwidth\": 2, \"linecolor\": \"white\", \"showbackground\": true, \"ticks\": \"\", \"zerolinecolor\": \"white\"}}, \"shapedefaults\": {\"line\": {\"color\": \"#2a3f5f\"}}, \"ternary\": {\"aaxis\": {\"gridcolor\": \"white\", \"linecolor\": \"white\", \"ticks\": \"\"}, \"baxis\": {\"gridcolor\": \"white\", \"linecolor\": \"white\", \"ticks\": \"\"}, \"bgcolor\": \"#E5ECF6\", \"caxis\": {\"gridcolor\": \"white\", \"linecolor\": \"white\", \"ticks\": \"\"}}, \"title\": {\"x\": 0.05}, \"xaxis\": {\"automargin\": true, \"gridcolor\": \"white\", \"linecolor\": \"white\", \"ticks\": \"\", \"title\": {\"standoff\": 15}, \"zerolinecolor\": \"white\", \"zerolinewidth\": 2}, \"yaxis\": {\"automargin\": true, \"gridcolor\": \"white\", \"linecolor\": \"white\", \"ticks\": \"\", \"title\": {\"standoff\": 15}, \"zerolinecolor\": \"white\", \"zerolinewidth\": 2}}}, \"title\": {\"text\": \"Average Employment Rate for All Parent Incomes\"}, \"width\": 600, \"xaxis\": {\"anchor\": \"y\", \"domain\": [0.0, 1.0], \"title\": {\"text\": \"City\"}}, \"yaxis\": {\"anchor\": \"x\", \"domain\": [0.0, 1.0], \"title\": {\"text\": \"Employment Rate All PI\"}}},\n",
              "                        {\"responsive\": true}\n",
              "                    ).then(function(){\n",
              "                            \n",
              "var gd = document.getElementById('cfe0623e-96bf-4264-abcc-388174227a5e');\n",
              "var x = new MutationObserver(function (mutations, observer) {{\n",
              "        var display = window.getComputedStyle(gd).display;\n",
              "        if (!display || display === 'none') {{\n",
              "            console.log([gd, 'removed!']);\n",
              "            Plotly.purge(gd);\n",
              "            observer.disconnect();\n",
              "        }}\n",
              "}});\n",
              "\n",
              "// Listen for the removal of the full notebook cells\n",
              "var notebookContainer = gd.closest('#notebook-container');\n",
              "if (notebookContainer) {{\n",
              "    x.observe(notebookContainer, {childList: true});\n",
              "}}\n",
              "\n",
              "// Listen for the clearing of the current output cell\n",
              "var outputEl = gd.closest('.output');\n",
              "if (outputEl) {{\n",
              "    x.observe(outputEl, {childList: true});\n",
              "}}\n",
              "\n",
              "                        })\n",
              "                };\n",
              "                \n",
              "            </script>\n",
              "        </div>\n",
              "</body>\n",
              "</html>"
            ]
          },
          "metadata": {
            "tags": []
          }
        }
      ]
    },
    {
      "cell_type": "markdown",
      "metadata": {
        "id": "Ji6P7FD1DO1i"
      },
      "source": [
        "## Pivot Tables"
      ]
    },
    {
      "cell_type": "code",
      "metadata": {
        "id": "Sn1tE4AUAmm_"
      },
      "source": [
        "# Average Employment in Baltimore City by Parent Income\n",
        "\n",
        "df_pivot_baltimore = pd.pivot_table(df_BAL_filteredFINAL,\n",
        "                                    index='City',\n",
        "                                    values=['Employment Rate All PI','Employment Rate High PI','Employment Rate Medium PI','Employment Rate Low PI'],\n",
        "                                            aggfunc = np.mean).reset_index()"
      ],
      "execution_count": 137,
      "outputs": []
    },
    {
      "cell_type": "code",
      "metadata": {
        "colab": {
          "base_uri": "https://localhost:8080/",
          "height": 75
        },
        "id": "DR2qGTliBTFQ",
        "outputId": "80a7af04-b862-4232-c05c-6fe447a3f6a7"
      },
      "source": [
        "# Preview \n",
        "\n",
        "df_pivot_baltimore.head()"
      ],
      "execution_count": 138,
      "outputs": [
        {
          "output_type": "execute_result",
          "data": {
            "text/html": [
              "<div>\n",
              "<style scoped>\n",
              "    .dataframe tbody tr th:only-of-type {\n",
              "        vertical-align: middle;\n",
              "    }\n",
              "\n",
              "    .dataframe tbody tr th {\n",
              "        vertical-align: top;\n",
              "    }\n",
              "\n",
              "    .dataframe thead th {\n",
              "        text-align: right;\n",
              "    }\n",
              "</style>\n",
              "<table border=\"1\" class=\"dataframe\">\n",
              "  <thead>\n",
              "    <tr style=\"text-align: right;\">\n",
              "      <th></th>\n",
              "      <th>City</th>\n",
              "      <th>Employment Rate All PI</th>\n",
              "      <th>Employment Rate High PI</th>\n",
              "      <th>Employment Rate Low PI</th>\n",
              "      <th>Employment Rate Medium PI</th>\n",
              "    </tr>\n",
              "  </thead>\n",
              "  <tbody>\n",
              "    <tr>\n",
              "      <th>0</th>\n",
              "      <td>Baltimore</td>\n",
              "      <td>0.720127</td>\n",
              "      <td>0.788615</td>\n",
              "      <td>0.696969</td>\n",
              "      <td>0.749796</td>\n",
              "    </tr>\n",
              "  </tbody>\n",
              "</table>\n",
              "</div>"
            ],
            "text/plain": [
              "        City  ...  Employment Rate Medium PI\n",
              "0  Baltimore  ...                   0.749796\n",
              "\n",
              "[1 rows x 5 columns]"
            ]
          },
          "metadata": {
            "tags": []
          },
          "execution_count": 138
        }
      ]
    },
    {
      "cell_type": "code",
      "metadata": {
        "id": "abM90htbC1mL"
      },
      "source": [
        "# Average Employment in Chicago by Parent Income\n",
        "\n",
        "df_pivot_chicago = pd.pivot_table(df_CHI_filteredFINAL,\n",
        "                                  index='City',\n",
        "                                  values=['Employment Rate All PI','Employment Rate High PI','Employment Rate Medium PI','Employment Rate Low PI'],\n",
        "                                            aggfunc = np.mean).reset_index()"
      ],
      "execution_count": 139,
      "outputs": []
    },
    {
      "cell_type": "code",
      "metadata": {
        "colab": {
          "base_uri": "https://localhost:8080/",
          "height": 75
        },
        "id": "G2eL-IGPDr2f",
        "outputId": "5822126b-443e-4cb5-d3ec-579449c7be28"
      },
      "source": [
        "# Preview\n",
        "\n",
        "df_pivot_chicago.head()"
      ],
      "execution_count": 140,
      "outputs": [
        {
          "output_type": "execute_result",
          "data": {
            "text/html": [
              "<div>\n",
              "<style scoped>\n",
              "    .dataframe tbody tr th:only-of-type {\n",
              "        vertical-align: middle;\n",
              "    }\n",
              "\n",
              "    .dataframe tbody tr th {\n",
              "        vertical-align: top;\n",
              "    }\n",
              "\n",
              "    .dataframe thead th {\n",
              "        text-align: right;\n",
              "    }\n",
              "</style>\n",
              "<table border=\"1\" class=\"dataframe\">\n",
              "  <thead>\n",
              "    <tr style=\"text-align: right;\">\n",
              "      <th></th>\n",
              "      <th>City</th>\n",
              "      <th>Employment Rate All PI</th>\n",
              "      <th>Employment Rate High PI</th>\n",
              "      <th>Employment Rate Low PI</th>\n",
              "      <th>Employment Rate Medium PI</th>\n",
              "    </tr>\n",
              "  </thead>\n",
              "  <tbody>\n",
              "    <tr>\n",
              "      <th>0</th>\n",
              "      <td>Chicago</td>\n",
              "      <td>0.745009</td>\n",
              "      <td>0.802098</td>\n",
              "      <td>0.720805</td>\n",
              "      <td>0.767686</td>\n",
              "    </tr>\n",
              "  </tbody>\n",
              "</table>\n",
              "</div>"
            ],
            "text/plain": [
              "      City  ...  Employment Rate Medium PI\n",
              "0  Chicago  ...                   0.767686\n",
              "\n",
              "[1 rows x 5 columns]"
            ]
          },
          "metadata": {
            "tags": []
          },
          "execution_count": 140
        }
      ]
    },
    {
      "cell_type": "code",
      "metadata": {
        "id": "r9kplQ4aDyFt"
      },
      "source": [
        "# Merge Pivot Tables\n",
        "\n",
        "df_pivot_merge = pd.concat([df_pivot_baltimore,df_pivot_chicago], axis=0)"
      ],
      "execution_count": 141,
      "outputs": []
    },
    {
      "cell_type": "code",
      "metadata": {
        "colab": {
          "base_uri": "https://localhost:8080/",
          "height": 103
        },
        "id": "JdfWyWp-EKx4",
        "outputId": "c0c2bdce-9520-41ee-f2e6-4ade0fb7df31"
      },
      "source": [
        "# Preview\n",
        "\n",
        "df_pivot_merge.head()"
      ],
      "execution_count": 142,
      "outputs": [
        {
          "output_type": "execute_result",
          "data": {
            "text/html": [
              "<div>\n",
              "<style scoped>\n",
              "    .dataframe tbody tr th:only-of-type {\n",
              "        vertical-align: middle;\n",
              "    }\n",
              "\n",
              "    .dataframe tbody tr th {\n",
              "        vertical-align: top;\n",
              "    }\n",
              "\n",
              "    .dataframe thead th {\n",
              "        text-align: right;\n",
              "    }\n",
              "</style>\n",
              "<table border=\"1\" class=\"dataframe\">\n",
              "  <thead>\n",
              "    <tr style=\"text-align: right;\">\n",
              "      <th></th>\n",
              "      <th>City</th>\n",
              "      <th>Employment Rate All PI</th>\n",
              "      <th>Employment Rate High PI</th>\n",
              "      <th>Employment Rate Low PI</th>\n",
              "      <th>Employment Rate Medium PI</th>\n",
              "    </tr>\n",
              "  </thead>\n",
              "  <tbody>\n",
              "    <tr>\n",
              "      <th>0</th>\n",
              "      <td>Baltimore</td>\n",
              "      <td>0.720127</td>\n",
              "      <td>0.788615</td>\n",
              "      <td>0.696969</td>\n",
              "      <td>0.749796</td>\n",
              "    </tr>\n",
              "    <tr>\n",
              "      <th>0</th>\n",
              "      <td>Chicago</td>\n",
              "      <td>0.745009</td>\n",
              "      <td>0.802098</td>\n",
              "      <td>0.720805</td>\n",
              "      <td>0.767686</td>\n",
              "    </tr>\n",
              "  </tbody>\n",
              "</table>\n",
              "</div>"
            ],
            "text/plain": [
              "        City  ...  Employment Rate Medium PI\n",
              "0  Baltimore  ...                   0.749796\n",
              "0    Chicago  ...                   0.767686\n",
              "\n",
              "[2 rows x 5 columns]"
            ]
          },
          "metadata": {
            "tags": []
          },
          "execution_count": 142
        }
      ]
    },
    {
      "cell_type": "code",
      "metadata": {
        "colab": {
          "base_uri": "https://localhost:8080/",
          "height": 633
        },
        "id": "dFMQ45u5EOaF",
        "outputId": "cabdcf99-be93-4e98-db83-15208fcf025b"
      },
      "source": [
        "# Pivot Chart Comparing Baltimore and Chicago\n",
        "\n",
        "mergedbar=df_pivot_merge.plot(kind='bar',\n",
        "                    x='City',\n",
        "                    title='Employment Rates by Parent Income',\n",
        "                    ylabel='Employment Rate (0.0-1.0)',\n",
        "                    fontsize=12, grid='yes', figsize=(11,9),ylim=(0,0.9))\n",
        "mergedbar.legend(loc='center left', bbox_to_anchor=(1.0, 0.5))"
      ],
      "execution_count": 143,
      "outputs": [
        {
          "output_type": "execute_result",
          "data": {
            "text/plain": [
              "<matplotlib.legend.Legend at 0x7fc78f8685f8>"
            ]
          },
          "metadata": {
            "tags": []
          },
          "execution_count": 143
        },
        {
          "output_type": "display_data",
          "data": {
            "image/png": "[encoded data removed]",
            "text/plain": [
              "<Figure size 792x648 with 1 Axes>"
            ]
          },
          "metadata": {
            "tags": [],
            "needs_background": "light"
          }
        }
      ]
    },
    {
      "cell_type": "markdown",
      "metadata": {
        "id": "x84mAIVZfTzZ"
      },
      "source": [
        "## Linear Regression"
      ]
    },
    {
      "cell_type": "code",
      "metadata": {
        "colab": {
          "base_uri": "https://localhost:8080/"
        },
        "id": "1UZ5sbBRYK2h",
        "outputId": "60b83286-707b-4836-ccc9-4e0013e8e214"
      },
      "source": [
        "# Baltimore Linear Regression\n",
        "\n",
        "X=df_BAL_filteredFINAL[['Employment Rate High PI','Employment Rate Medium PI','Employment Rate Low PI']]\n",
        "Y=df_BAL_filteredFINAL['Employment Rate All PI']\n",
        "\n",
        "# With sklearn\n",
        "\n",
        "regr=linear_model.LinearRegression()\n",
        "regr.fit(X,Y)\n",
        "\n",
        "# Derive Intercept and Coefficients\n",
        "\n",
        "print('Intercept: \\n', regr.intercept_)\n",
        "print('Coefficients: \\n', regr.coef_)\n",
        "\n",
        "# NOTE THAT WE DO NOT KNOW IF THESE ARE STATISTICALLY SIGNIFICANT"
      ],
      "execution_count": 149,
      "outputs": [
        {
          "output_type": "stream",
          "text": [
            "Intercept: \n",
            " 0.059184801174730683\n",
            "Coefficients: \n",
            " [ 31.19126488 -53.41324203  23.11733124]\n"
          ],
          "name": "stdout"
        }
      ]
    },
    {
      "cell_type": "code",
      "metadata": {
        "colab": {
          "base_uri": "https://localhost:8080/"
        },
        "id": "eA1nkEg3gqbw",
        "outputId": "e2c74b6b-1bda-4346-8884-b655fb5ef153"
      },
      "source": [
        "# Chicago Linear Regression\n",
        "\n",
        "X=df_CHI_filteredFINAL[['Employment Rate High PI','Employment Rate Medium PI','Employment Rate Low PI']]\n",
        "Y=df_CHI_filteredFINAL['Employment Rate All PI']\n",
        "\n",
        "# With sklearn\n",
        "\n",
        "regr=linear_model.LinearRegression()\n",
        "regr.fit(X,Y)\n",
        "\n",
        "# Derive Intercept and Coefficients\n",
        "\n",
        "print('Intercept: \\n', regr.intercept_)\n",
        "print('Coefficients: \\n', regr.coef_)\n",
        "\n",
        "# NOTE THAT WE DO NOT KNOW IF THESE ARE STATISTICALLY SIGNIFICANT"
      ],
      "execution_count": 150,
      "outputs": [
        {
          "output_type": "stream",
          "text": [
            "Intercept: \n",
            " 0.13979911041292126\n",
            "Coefficients: \n",
            " [ 0.66398154 -0.52025928  0.65486212]\n"
          ],
          "name": "stdout"
        }
      ]
    },
    {
      "cell_type": "code",
      "metadata": {
        "id": "LUL4oIQeif6d"
      },
      "source": [
        ""
      ],
      "execution_count": null,
      "outputs": []
    }
  ]
}